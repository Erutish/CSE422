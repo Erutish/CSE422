{
  "nbformat": 4,
  "nbformat_minor": 0,
  "metadata": {
    "colab": {
      "provenance": []
    },
    "kernelspec": {
      "name": "python3",
      "display_name": "Python 3"
    },
    "language_info": {
      "name": "python"
    }
  },
  "cells": [
    {
      "cell_type": "code",
      "source": [
        "import numpy as py\n",
        "import random\n",
        "\n",
        "plus_inf  = float('inf')\n",
        "minus_inf = float('-inf')\n",
        "\n",
        "#position is current index\n",
        "               #indx                  level      attacker    nodes\n",
        "def minimax(indx, alpha, beta, level, attacker, nodes):\n",
        "  global pruned\n",
        "  if level == b:\n",
        "    return nodes[indx]\n",
        "  if attacker:\n",
        "    new = minus_inf\n",
        "    for i in range(0, branch):\n",
        "      value = minimax(indx*branch + i, alpha, beta, level+1, False, nodes)\n",
        "      new = max(new, value)\n",
        "      alpha = max(new, alpha)\n",
        "      if alpha >= beta:\n",
        "        pruned-=1\n",
        "        break\n",
        "    return new\n",
        "  else:\n",
        "    new = plus_inf\n",
        "    for i in range(0, branch):\n",
        "      value = minimax(indx*branch + i, alpha, beta, level+1, True, nodes)\n",
        "      new = min(new, value)\n",
        "      beta = min(new, beta)\n",
        "      if alpha >= beta:\n",
        "        pruned-=1\n",
        "        break\n",
        "    return new\n",
        "\n",
        "\n",
        "# main start from here\n",
        "\n",
        "student_id =input(\"1. Enter your student id: \")\n",
        "#time\n",
        "b = int(student_id[0])*2 #how many times attacker can attack\n",
        "\n",
        "\n",
        "initial_hp = int(student_id[::-1][:2])# this is initial lifeline\n",
        "\n",
        "branch = int(student_id[2]) #attacker will take dcsn from how many child\n",
        "\n",
        "pruned = 0\n",
        "total_nodes = branch ** b\n",
        "\n",
        "negative_HP = input(\"negative HP range :\") #23241131\n",
        "negative_HP = negative_HP.split(\" \") #doing split of the user given range\n",
        "\n",
        "minimum_negative_HP = int(negative_HP[0])\n",
        "maximum_negative_HP = int(negative_HP[1])\n",
        "\n",
        "print(\"1. Depth and Branches ratio is : \"+ str(b) + \":\" + str(a))\n",
        "nodes =  [random.randint(minimum_negative_HP, maximum_negative_HP) for i in range(0, total_nodes)]\n",
        "#nodes =  [18,13,5,12,10,5,13,7,17,8,6,8,5,11,13,18]\n",
        "#nodes=  [19,22,9,2,26,16,16,27,16]\n",
        "print(\"2.  Terminal States(leaf node values) are \", *nodes, \" \")\n",
        "\n",
        "\n",
        "current_hp = minimax(0, minus_inf, plus_inf, 0, True, nodes)  #atttacker root\n",
        "#print (current_hp)\n",
        "remaining_hp = int(initial_hp) - int(current_hp)\n",
        "\n",
        "print(\"3.  Left life(HP) of the defender after maximum damage caused by the attacker is\", remaining_hp)\n",
        "pruned = len(nodes)\n",
        "x = minimax(0, minus_inf, plus_inf, 0, False, nodes)   #defender root\n",
        "print(\"4.  After Alpha-Beta Pruning Leaf Node Comparisons\", pruned)"
      ],
      "metadata": {
        "colab": {
          "base_uri": "https://localhost:8080/"
        },
        "id": "VC8bRQgP3Nml",
        "outputId": "2d6598f7-baac-4435-f05f-3eae181eb4d0"
      },
      "execution_count": null,
      "outputs": [
        {
          "output_type": "stream",
          "name": "stdout",
          "text": [
            "1. Enter your student id: 23241131\n",
            "negative HP range :5 10\n",
            "1. Depth and Branches ratio is : 4:3\n",
            "2.  Terminal States(leaf node values) are  9 5 10 6 10 10 5 5 8 9 9 7 6 9 8 5  \n",
            "6\n",
            "3.  Left life(HP) of the defender after maximum damage caused by the attacker is 7\n",
            "4.  After Alpha-Beta Pruning Leaf Node Comparisons 11\n"
          ]
        }
      ]
    }
  ]
}