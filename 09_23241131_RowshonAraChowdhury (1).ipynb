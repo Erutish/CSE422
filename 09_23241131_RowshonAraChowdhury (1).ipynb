{
  "nbformat": 4,
  "nbformat_minor": 0,
  "metadata": {
    "colab": {
      "provenance": []
    },
    "kernelspec": {
      "name": "python3",
      "display_name": "Python 3"
    },
    "language_info": {
      "name": "python"
    }
  },
  "cells": [
    {
      "cell_type": "code",
      "execution_count": null,
      "metadata": {
        "colab": {
          "base_uri": "https://localhost:8080/"
        },
        "id": "0UxfV5u7TN-J",
        "outputId": "3c7699c8-efdf-46d7-ab0d-59aec403d9f6"
      },
      "outputs": [
        {
          "output_type": "stream",
          "name": "stdout",
          "text": [
            "starting node: Arad\n",
            "goal node: Bucharest\n",
            "path: Arad -> Sibiu -> RimnicuVilcea -> Pitesti -> Bucharest\n",
            "Total distance: 418 KM\n"
          ]
        }
      ],
      "source": [
        "class Node:\n",
        "    def __init__(self,city,heuristic):\n",
        "        self.city=city\n",
        "        self.heuristic=heuristic\n",
        "        self.neighbour_list=[]\n",
        "\n",
        "    def add_neighbour(self,neighbour,distance):\n",
        "        self.neighbour_list.append((neighbour,distance))\n",
        "\n",
        "def a_star(graph,start,goal):\n",
        "    queue =[(0,start)]  #(f,city)\n",
        "    parent={}\n",
        "    g_cost={node.city:float(\"inf\") for node in graph} #(city_name:inf)\n",
        "    g_cost[start]=0\n",
        "\n",
        "    while queue:\n",
        "        current_g,current_city=min(queue)\n",
        "        queue.remove((current_g,current_city))   #queue theke out\n",
        "\n",
        "        if current_city==goal:\n",
        "            path=[]\n",
        "            while current_city in parent:\n",
        "                path.insert(0,current_city)\n",
        "                current_city=parent[current_city]\n",
        "            path.insert(0,start)\n",
        "            t_distance=g_cost[goal]\n",
        "            return path,t_distance\n",
        "\n",
        "        new=None\n",
        "        for node in graph:\n",
        "            if node.city==current_city: #location\n",
        "                new=node\n",
        "                break\n",
        "\n",
        "        for neighbour,distance in new.neighbour_list:\n",
        "            new_g=g_cost[current_city]+distance\n",
        "            if new_g<g_cost[neighbour]:\n",
        "                parent[neighbour]=current_city\n",
        "                g_cost[neighbour]=new_g\n",
        "                f_score=new_g+[node.heuristic for node in graph if node.city==neighbour][0]\n",
        "                queue.append((f_score,neighbour))\n",
        "\n",
        "    return None\n",
        "\n",
        "def read_graph(file_path):\n",
        "    graph = []\n",
        "    with open(file_path, 'r') as file:\n",
        "        lines = file.readlines()\n",
        "        for l in lines:\n",
        "            data = l.strip().split()\n",
        "            city = data[0]\n",
        "            #print(city)\n",
        "            heuristic = int(data[1])\n",
        "            node = Node(city, heuristic) #NOde er init e jay and node e location\n",
        "            neighbours = data[2:]\n",
        "            for i in range(0, len(neighbours), 2):\n",
        "                neighbour_city = neighbours[i]\n",
        "                distance = int(neighbours[i + 1])\n",
        "                node.add_neighbour(neighbour_city, distance) #def add_neighbour e jay\n",
        "            graph.append(node)\n",
        "    return graph\n",
        "\n",
        "def main():\n",
        "    graph = read_graph(\"/content/Input file.txt\")\n",
        "\n",
        "    start_node = input(\"starting node: \")\n",
        "    goal_node = input(\"goal node: \")\n",
        "\n",
        "    if not any(node.city == start_node for node in graph) or not any(node.city == goal_node for node in graph):\n",
        "        print(\"Invalid nodes.\")\n",
        "    else:\n",
        "        path, total_distance = a_star(graph, start_node, goal_node)\n",
        "        if path:\n",
        "            path_names = ' -> '.join(path)\n",
        "            print(\"path:\", path_names)\n",
        "            print(\"Total distance:\", total_distance,\"KM\")\n",
        "        else:\n",
        "            print(\"No path found .\")\n",
        "\n",
        "if __name__ == \"__main__\":\n",
        "    main()\n"
      ]
    }
  ]
}